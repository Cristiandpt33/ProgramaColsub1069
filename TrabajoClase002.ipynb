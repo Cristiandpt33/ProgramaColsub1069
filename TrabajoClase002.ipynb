{
  "nbformat": 4,
  "nbformat_minor": 0,
  "metadata": {
    "colab": {
      "provenance": []
    },
    "kernelspec": {
      "name": "python3",
      "display_name": "Python 3"
    },
    "language_info": {
      "name": "python"
    }
  },
  "cells": [
    {
      "cell_type": "markdown",
      "source": [
        "OPERADORES MATEMATICOS EN PYTHON\n"
      ],
      "metadata": {
        "id": "RnPv64kxZnAA"
      }
    },
    {
      "cell_type": "code",
      "source": [
        "num1 = 15\n",
        "num2 = 4 \n",
        "res = num1 + num2\n",
        "print(res)"
      ],
      "metadata": {
        "colab": {
          "base_uri": "https://localhost:8080/"
        },
        "id": "4usk6OENZrzW",
        "outputId": "cab267b2-a007-40a9-edf2-6022f0012ce3"
      },
      "execution_count": null,
      "outputs": [
        {
          "output_type": "stream",
          "name": "stdout",
          "text": [
            "19\n"
          ]
        }
      ]
    },
    {
      "cell_type": "code",
      "source": [
        "num1 = int(input(\"Digite el numero 1: \"))\n",
        "num2 =  int(input(\"Digite el numero 2: \"))\n",
        "res = num1 + num2\n",
        "print(res)"
      ],
      "metadata": {
        "colab": {
          "base_uri": "https://localhost:8080/"
        },
        "id": "ZtgaaaAyhD4-",
        "outputId": "fa966d63-106c-44be-90ef-26098dcbd79a"
      },
      "execution_count": null,
      "outputs": [
        {
          "output_type": "stream",
          "name": "stdout",
          "text": [
            "Digite el numero 1: 15\n",
            "Digite el numero 2: 4\n",
            "19\n"
          ]
        }
      ]
    },
    {
      "cell_type": "code",
      "source": [
        "num1 = float(input(\"Digite el numero 1: \"))\n",
        "num2 = float(input(\"Digite el numero 2: \"))\n",
        "res = num1 + num2\n",
        "print(res)"
      ],
      "metadata": {
        "colab": {
          "base_uri": "https://localhost:8080/"
        },
        "id": "ybmxP6OEiqh7",
        "outputId": "49fbfa99-9cd9-49ac-bfc3-2f522830beb8"
      },
      "execution_count": null,
      "outputs": [
        {
          "output_type": "stream",
          "name": "stdout",
          "text": [
            "Digite el numero 1: 4.5\n",
            "Digite el numero 2: 3.1\n",
            "7.6\n"
          ]
        }
      ]
    },
    {
      "cell_type": "code",
      "source": [
        "num1 = int(input(\"Digite el numero 1: \"))\n",
        "num2 =  int(input(\"Digite el numero 2: \"))\n",
        "res = num1 + num2\n",
        "print(\"La Suma es = {}\".format(res))"
      ],
      "metadata": {
        "colab": {
          "base_uri": "https://localhost:8080/"
        },
        "id": "epkyhWdAkdIu",
        "outputId": "5ef8ecae-e065-4baa-9c37-cb7846ba93e7"
      },
      "execution_count": null,
      "outputs": [
        {
          "output_type": "stream",
          "name": "stdout",
          "text": [
            "Digite el numero 1: 33\n",
            "Digite el numero 2: 27\n",
            "La Suma es = 60\n"
          ]
        }
      ]
    },
    {
      "cell_type": "code",
      "source": [
        "Cris1 = int(input(\"Digite el numero 1: \"))\n",
        "Lore2 =  int(input(\"Digite el numero 2: \"))\n",
        "Juan3 = int(input(\"Digite el numero 3: \"))\n",
        "Stiven = int(input(\"Digite el numero 4: \"))\n",
        "res = Cris1 + Lore2 + Juan3 + Stiven \n",
        "print(\"La Suma de {} + {} + {} + {} es = {}\".format(Cris1, Lore2, Juan3, Stiven, res))"
      ],
      "metadata": {
        "colab": {
          "base_uri": "https://localhost:8080/"
        },
        "id": "sg3P59czljTq",
        "outputId": "9bbe3ec7-7fb9-4b01-8366-cc5facc28218"
      },
      "execution_count": null,
      "outputs": [
        {
          "output_type": "stream",
          "name": "stdout",
          "text": [
            "Digite el numero 1: 33\n",
            "Digite el numero 2: 27\n",
            "Digite el numero 3: 4\n",
            "Digite el numero 4: 13\n",
            "La Suma de 33 + 27 + 4 + 13 es = 77\n"
          ]
        }
      ]
    },
    {
      "cell_type": "code",
      "source": [
        "Cris1 = int(input(\"Digite el numero 1: \"))\n",
        "Lore2 =  int(input(\"Digite el numero 2: \"))\n",
        "Juan3 = int(input(\"Digite el numero 3: \"))\n",
        "Stiven = int(input(\"Digite el numero 4: \"))\n",
        "res = Cris1 + Lore2 + Juan3 + Stiven \n",
        "print(f\"La suma de {Cris1} + {Lore2} + {Juan3} + {Stiven} es = {res}\")"
      ],
      "metadata": {
        "colab": {
          "base_uri": "https://localhost:8080/"
        },
        "id": "jttF8Y0jon6p",
        "outputId": "e4ebaeab-8a09-4422-c541-c5e642e6dccd"
      },
      "execution_count": null,
      "outputs": [
        {
          "output_type": "stream",
          "name": "stdout",
          "text": [
            "Digite el numero 1: 33\n",
            "Digite el numero 2: 27\n",
            "Digite el numero 3: 4\n",
            "Digite el numero 4: 13\n",
            "La suma de 33 + 27 + 4 + 13 es = 77\n"
          ]
        }
      ]
    },
    {
      "cell_type": "markdown",
      "source": [
        "CALCULADORA + - * /"
      ],
      "metadata": {
        "id": "IYi5jVi_wC5x"
      }
    },
    {
      "cell_type": "code",
      "source": [
        "num1 = int(input(\"Digite el numero 1: \"))\n",
        "num2 = int(input(\"Digite el numero 2: \"))\n",
        "\n",
        "suma = num1 + num2\n",
        "resta = num1 - num2\n",
        "multi = num1 * num2\n",
        "divi = num1 / num2\n",
        "\n",
        "print(\"\\nEl Resultado De La Suma es = {}\".format(suma))\n",
        "print(\"\\nEl Resultado De La resta es = {}\".format(resta))\n",
        "print(f\"\\nEl Resultado De La Multiplicacion es ={multi}\")\n",
        "print(f\"\\nEl Resultado De La Divicion es ={divi}\")"
      ],
      "metadata": {
        "colab": {
          "base_uri": "https://localhost:8080/"
        },
        "id": "Ujq6fr3YwUuq",
        "outputId": "b73951ba-5c4c-4819-ebf4-02f4405a33e9"
      },
      "execution_count": null,
      "outputs": [
        {
          "output_type": "stream",
          "name": "stdout",
          "text": [
            "Digite el numero 1: 1\n",
            "Digite el numero 2: 2\n",
            "\n",
            "El Resultado De La Suma es = 3\n",
            "\n",
            "El Resultado De La resta es = -1\n",
            "\n",
            "El Resultado De La Multiplicacion es =2\n",
            "\n",
            "El Resultado De La Divicion es =0.5\n"
          ]
        }
      ]
    },
    {
      "cell_type": "markdown",
      "source": [
        "Se recibe una venta por concepto de un producto, se requiere aplicar el Iva (19) \n",
        "y conocer el total a pagar con EL IVA incluido"
      ],
      "metadata": {
        "id": "osLKQw9b0QCU"
      }
    },
    {
      "cell_type": "code",
      "source": [
        "# variable de captura de venta\n",
        "venta = float(input(\"¿Cuanto fue el total de la venta?:\"))\n",
        "iva = venta * 0.19\n",
        "total = venta + iva \n",
        "print(\"El Iva es = $ {:,.0f} y el total a pagar es = $ {:,.0f}\".format(iva, total))\n",
        "print(f\"El Iva es = $ {iva:,.0f} y el total a pagar es = $ {total:,.0f}\")"
      ],
      "metadata": {
        "colab": {
          "base_uri": "https://localhost:8080/"
        },
        "id": "MYUpRK-X0zaj",
        "outputId": "d6e18cdc-9eec-4afe-9369-1d33fc3047b5"
      },
      "execution_count": null,
      "outputs": [
        {
          "output_type": "stream",
          "name": "stdout",
          "text": [
            "¿Cuanto fue el total de la venta?:10000000\n",
            "El Iva es = $ 1,900,000 y el total a pagar es = $ 11,900,000\n",
            "El Iva es = $ 1,900,000 y el total a pagar es = $ 11,900,000\n"
          ]
        }
      ]
    },
    {
      "cell_type": "markdown",
      "source": [
        "**3. Se Necesita Un Sistema Que Reciba tres Calificaciones parciales de alumnos.\n",
        "en base a esta, dale su PROMEDIO.**"
      ],
      "metadata": {
        "id": "oMW-ak5w7Ik3"
      }
    },
    {
      "cell_type": "code",
      "source": [
        "califica1= float(input(\"Digite la calificacion 1: \"))\n",
        "califica2= float(input(\"Digite la calificacion 2: \"))\n",
        "califica3= float(input(\"Digite la calificacion 3: \"))\n",
        "\n",
        "prom= (califica1 + califica2 + califica3)/3\n",
        "\n",
        "print(f\"EL promedio es = {prom}\")"
      ],
      "metadata": {
        "colab": {
          "base_uri": "https://localhost:8080/"
        },
        "id": "zVTQ0_LP7gX1",
        "outputId": "7a027007-5727-4d5e-d431-fc8403c65915"
      },
      "execution_count": null,
      "outputs": [
        {
          "output_type": "stream",
          "name": "stdout",
          "text": [
            "Digite la calificacion 1: 4.2\n",
            "Digite la calificacion 2: 3.7\n",
            "Digite la calificacion 3: 1.8\n",
            "EL promedio es = 3.233333333333334\n"
          ]
        }
      ]
    },
    {
      "cell_type": "code",
      "source": [
        "califica1= float(input(\"Digite la calificacion 1: \"))\n",
        "califica2= float(input(\"Digite la calificacion 2: \"))\n",
        "califica3= float(input(\"Digite la calificacion 3: \"))\n",
        "\n",
        "prom= round((califica1 + califica2 + califica3)/3, 1)\n",
        "\n",
        "print(f\"EL promedio es = {prom}\")"
      ],
      "metadata": {
        "colab": {
          "base_uri": "https://localhost:8080/"
        },
        "id": "Dwvzzu_K93qs",
        "outputId": "f0a5d6c0-3328-4191-eb94-bb893ab48556"
      },
      "execution_count": null,
      "outputs": [
        {
          "output_type": "stream",
          "name": "stdout",
          "text": [
            "Digite la calificacion 1: 4.2\n",
            "Digite la calificacion 2: 3.7\n",
            "Digite la calificacion 3: 1.8\n",
            "EL promedio es = 3.2\n"
          ]
        }
      ]
    },
    {
      "cell_type": "markdown",
      "source": [
        "**1. Un vendedor recibe un sueldo base más un 10% extra por\n",
        "comisión de sus ventas, el vendedor desea saber cuánto\n",
        "dinero obtendrá por concepto de comisiones por las tres\n",
        "ventas que realiza en el mes y el total que recibirá en\n",
        "el mes tomando en cuenta su sueldo base y comisiones.**"
      ],
      "metadata": {
        "id": "ZHLBZuEUf9tz"
      }
    },
    {
      "cell_type": "code",
      "source": [
        "suelb = float(input(\"\\nDigite el Sueldo Base:$ \".format(suelb)))\n",
        "ven1 = float(input(\"\\nDigite venta 1:  $ \"))\n",
        "ven2 = float(input(\"Digite venta 2:  $ \"))\n",
        "ven3 = float(input(\"Digite venta 3:  $ \"))\n",
        "comi = round((ven1 + ven2 + ven3)*0.10)\n",
        "tot =  comi + suelb\n",
        "\n",
        "print(f\"\\nLa comision de las tres ventas es: {comi:,.0f} y el total del Suedo Base con Comisióno es : {tot:,.0f} \")"
      ],
      "metadata": {
        "id": "jlCGu06Yf-_q",
        "colab": {
          "base_uri": "https://localhost:8080/"
        },
        "outputId": "9b9f8b9c-b680-48d6-dac5-1c2e4f931eb8"
      },
      "execution_count": null,
      "outputs": [
        {
          "output_type": "stream",
          "name": "stdout",
          "text": [
            "\n",
            "Digite el Sueldo Base:$ 1160000\n",
            "\n",
            "Digite venta 1:  $ 7400000\n",
            "Digite venta 2:  $ 5100000\n",
            "Digite venta 3:  $ 15000000\n",
            "\n",
            "La comision de las tres ventas es: 2,750,000 y el total del Suedo Base con Comisióno es : 3,910,000 \n"
          ]
        }
      ]
    },
    {
      "cell_type": "markdown",
      "source": [
        "**2. Una tienda ofrece un descuento del 15% sobre el total\n",
        "de la compra y un cliente desea saber cuánto deberá\n",
        "pagar finalmente por su compra.**"
      ],
      "metadata": {
        "id": "3WpcWf6I1CjG"
      }
    },
    {
      "cell_type": "code",
      "source": [
        "venta = float(input(f\"¿Cuánto es el valor de la compra?: $ \"))\n",
        "desc = venta * 0.15\n",
        "tot = venta - desc\n",
        "print(f\"\\nEl total de la Compra con descuento es: $ {tot:,.0f} y el descuento fue de: $ {desc:,.0f} \")"
      ],
      "metadata": {
        "colab": {
          "base_uri": "https://localhost:8080/"
        },
        "id": "ldUGv95d1RGo",
        "outputId": "a5c992fc-5067-410c-dabd-dd23f2399865"
      },
      "execution_count": null,
      "outputs": [
        {
          "output_type": "stream",
          "name": "stdout",
          "text": [
            "¿Cuánto es el valor de la compra?: $ 10000\n",
            "\n",
            "El total de la Compra con descuento es: $ 8,500 y el descuento fue de: $ 1,500 \n"
          ]
        }
      ]
    },
    {
      "cell_type": "markdown",
      "source": [
        "**4. Un maestro desea saber qué porcentaje de hombres y que\n",
        "porcentaje de mujeres hay en un grupo de estudiantes.**"
      ],
      "metadata": {
        "id": "9aDDWF2c99LM"
      }
    },
    {
      "cell_type": "code",
      "source": [
        "#Estudiantes\n",
        "hom = int(input(\"Cuentas hombres hay?: \"))\n",
        "muj = int(input(\"Cuentas mujeres hay?: \"))\n",
        "test= hom + muj\n",
        "porhom = round((hom *100)/test)\n",
        "pormuj = round((muj *100)/test)\n",
        "print(f\"El porcentaje de Hombres es: {porhom} % y el porcentaje de Mujeres es: {pormuj}% \")"
      ],
      "metadata": {
        "colab": {
          "base_uri": "https://localhost:8080/"
        },
        "id": "3Ltzh7jzQtuz",
        "outputId": "5927fbf6-c816-44f7-9ec9-ea8c8355053a"
      },
      "execution_count": null,
      "outputs": [
        {
          "output_type": "stream",
          "name": "stdout",
          "text": [
            "Cuentas hombres hay?: 5\n",
            "Cuentas mujeres hay?: 10\n",
            "El porcentaje de Hombres es: 33 % y el porcentaje de Mujeres es: 67% \n"
          ]
        }
      ]
    },
    {
      "cell_type": "markdown",
      "source": [],
      "metadata": {
        "id": "xpXMBDcL4XFF"
      }
    }
  ]
}