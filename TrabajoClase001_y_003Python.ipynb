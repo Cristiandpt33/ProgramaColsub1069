{
  "cells": [
    {
      "cell_type": "markdown",
      "source": [
        "## **`Clase Colsubsidio 2023 `** Cristian Parga ⚗\n"
      ],
      "metadata": {
        "id": "eUPMHukdVFi6"
      }
    },
    {
      "cell_type": "code",
      "execution_count": null,
      "metadata": {
        "colab": {
          "base_uri": "https://localhost:8080/"
        },
        "id": "HJ7czwCxQcbZ",
        "outputId": "2c7373a2-77c6-425f-c46e-098d7b6c90b7"
      },
      "outputs": [
        {
          "name": "stdout",
          "output_type": "stream",
          "text": [
            "Hola Mundo !!!\n"
          ]
        }
      ],
      "source": [
        "print(\"Hola Mundo !!!\")"
      ]
    },
    {
      "cell_type": "code",
      "execution_count": null,
      "metadata": {
        "id": "qKjOpZRMlziH"
      },
      "outputs": [],
      "source": [
        "nombre = \"cristian\"\n",
        "apellido= \"parga\"\n",
        "edad= 33"
      ]
    },
    {
      "cell_type": "code",
      "execution_count": null,
      "metadata": {
        "colab": {
          "base_uri": "https://localhost:8080/"
        },
        "id": "25uo6Q07o5hm",
        "outputId": "52e0cafc-03d9-4969-fb10-9586a3540d3f"
      },
      "outputs": [
        {
          "name": "stdout",
          "output_type": "stream",
          "text": [
            "Digite su Nombrecristian\n",
            "cristian\n"
          ]
        }
      ],
      "source": [
        "nombreper = input (\"Digite su Nombre\")\n",
        "print(nombreper) \n"
      ]
    },
    {
      "cell_type": "markdown",
      "metadata": {
        "id": "G_efhSjYcq0y"
      },
      "source": [
        "Taller\n",
        "\n",
        "\n",
        "1.\tSi el empleado es mayor de 55 años disfrutará de un bono de prepensión correspondiente al 5% de su sueldo básico.\n",
        "2.\tSi el empleado es casado y tiene hijos se le otorgará un paseo cada diciembre\n",
        " \n",
        "3.\tSi el sueldo básico está entre 1000000 y 1500000 tendrá una comisión del 2% sobre el valor del sueldo; Si el sueldo básico está entre 1500001 y 2000000 tendrá una comisión del 5% sobre el valor del sueldo; para todos los demás casos no habrá comisión.\n",
        "4.\tSi el empleado trabajó más de 20 días al mes y su sueldo es menor a 1000000 tendrá derecho a un bono de alimentación."
      ]
    },
    {
      "cell_type": "code",
      "execution_count": 18,
      "metadata": {
        "colab": {
          "base_uri": "https://localhost:8080/"
        },
        "id": "EV69AFJbps80",
        "outputId": "aad03835-6599-493b-c272-b5e4343919cd"
      },
      "outputs": [
        {
          "output_type": "stream",
          "name": "stdout",
          "text": [
            "\n",
            "Digite su Numero de Identificación 1069731391\n",
            "1069731391\n",
            "\n",
            "Nombres Cristian David\n",
            "Cristian David\n",
            "\n",
            "Apellidos Parga Toledo\n",
            "Parga Toledo\n",
            "\n",
            "Direcion donde vive Mz G casa 105 Ebenezer Fusagasuga\n",
            " Mz G casa 105 Ebenezer Fusagasuga\n",
            "\n",
            "Telefono o Celular3219928730\n",
            "3219928730\n",
            "\n",
            "Edad 59\n",
            "¡¡¡Disfuta de un Bono de prepension del 5% !!!\n",
            "\n",
            "Digite su estado Civil: casado\n",
            " \n",
            "Número de hijos:1\n",
            " ¡¡¡Tiene derecho al paseo en Diciembre!!!\n",
            " \n",
            "Estatura en centímetros1.60\n",
            "1.60\n",
            "\n",
            "fecha de contratación (Día mes año)23, marzo 2023\n",
            "23, marzo 2023\n",
            "\n",
            "Sueldo basico 900000\n",
            "No aplica para Comision del 5%, segun condiciones.\n",
            "Aplica bono de prepensión por= $ 45,000 y el total a pagar es = $ 945,000  \n",
            "\n",
            "Dias Laborados26\n",
            "¡¡¡Aplica bono de alimentacion por $ 260.000!!!\n"
          ]
        }
      ],
      "source": [
        "No_de_Identificación = input(\"\\nDigite su Numero de Identificación \")\n",
        "print(No_de_Identificación)\n",
        "\n",
        "Nombres = input(\"\\nNombres \")\n",
        "print( Nombres )\n",
        "\n",
        "Apellidos = input(\"\\nApellidos \")\n",
        "print( Apellidos )\n",
        "\n",
        "Dirección = input(\"\\nDirecion donde vive\")\n",
        "print(Dirección)\n",
        "\n",
        "Teléfono = input(\"\\nTelefono o Celular\")\n",
        "print(Teléfono)\n",
        "\n",
        "edad= int(input (\"\\nEdad \"))\n",
        "\n",
        "if edad > 55:\n",
        "  print(\"¡¡¡Disfuta de un Bono de prepension del 5% !!!\")\n",
        "else:\n",
        "  print(\" No Aplica por edad Bono de prepencion!!! \")\n",
        "\n",
        "\n",
        "estado_civil = input(\"\\nDigite su estado Civil: \")\n",
        "Numero_de_hijos = int(input(\" \\nNúmero de hijos:\" ))\n",
        "\n",
        "if estado_civil in \"casado\" and Numero_de_hijos >=1:\n",
        "  print(\" ¡¡¡Tiene derecho al paseo en Diciembre!!!\")\n",
        "\n",
        "\n",
        "Estatura_en_centímetros = input(\" \\nEstatura en centímetros\")\n",
        "print(Estatura_en_centímetros)\n",
        "\n",
        "\n",
        "fecha_de_contratación_Día_mes_año = input(\"\\nfecha de contratación (Día mes año)\")\n",
        "print(fecha_de_contratación_Día_mes_año)\n",
        "\n",
        "\n",
        "sueldo_basico = float(input(\"\\nSueldo basico \"))\n",
        "\n",
        "bon = sueldo_basico * 0.05\n",
        "total = sueldo_basico + bon\n",
        "\n",
        "if 1000000 <= sueldo_basico <=1500000:\n",
        "  comi = sueldo_basico * 0.02\n",
        "  tot= sueldo_basico + comi\n",
        "  print(f\"Si el sueldo básico está entre 1000000 y 1500000 tendrá una comisión del 2% el valor de la comision es: {comi:,.0f} y el total a pagar con sueldo y comision es: {tot:,.0f}\")\n",
        "elif 1500001 <= sueldo_basico <=2000000:\n",
        "  comision= sueldo_basico * 0.05\n",
        "  total= sueldo_basico + comi\n",
        "  print(f\" Si el sueldo básico está entre 1500001 y 2000000 tendrá una comisión del 5% el valor de la comision es: {comision:,.0f} y el total a pagar con comision es: {total:,.0f}\")\n",
        "else:\n",
        "  print(\"No aplica para Comision del 5%, segun condiciones.\")\n",
        "\n",
        "\n",
        "if edad > 55:\n",
        "  print(f\"Aplica bono de prepensión por= $ {bon:,.0f} y el total a pagar es = $ {total:,.0f}  \")\n",
        "else:\n",
        "  print(\"¡¡¡No Aplica por edad  requerida !!!\")\n",
        "\n",
        "\n",
        "#Si el empleado trabajó más de 20 días al mes y su sueldo es menor a 1000000 tendrá derecho a un bono de alimentación.\n",
        "\n",
        "Dias_Laborados = input(\"\\nDias Laborados\")\n",
        "\n",
        "if Dias_Laborados >= \"20\" and sueldo_basico <= 1000000:\n",
        "  print(\"¡¡¡Aplica bono de alimentacion por $ 260.000!!!\")\n",
        "else:\n",
        "  print(\"No aplica Bono de alimentacion.!!! \")\n",
        "\n"
      ]
    },
    {
      "cell_type": "markdown",
      "source": [],
      "metadata": {
        "id": "QMHIhrV4VBrn"
      }
    }
  ],
  "metadata": {
    "colab": {
      "provenance": []
    },
    "kernelspec": {
      "display_name": "Python 3",
      "name": "python3"
    },
    "language_info": {
      "name": "python"
    }
  },
  "nbformat": 4,
  "nbformat_minor": 0
}