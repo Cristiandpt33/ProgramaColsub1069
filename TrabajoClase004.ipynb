{
  "cells": [
    {
      "cell_type": "markdown",
      "metadata": {
        "id": "NNP2xqY5vHDk"
      },
      "source": [
        "***CICLOS REPETITIVOS***"
      ]
    },
    {
      "cell_type": "markdown",
      "metadata": {
        "id": "nWpIyEuPvQb9"
      },
      "source": [
        "***CICLO FOR***"
      ]
    },
    {
      "cell_type": "code",
      "execution_count": null,
      "metadata": {
        "colab": {
          "base_uri": "https://localhost:8080/"
        },
        "id": "ZBcTCFJzvXV5",
        "outputId": "8e79438b-624d-49f7-a3d9-e8ee1ae750ff"
      },
      "outputs": [
        {
          "name": "stdout",
          "output_type": "stream",
          "text": [
            "1\n",
            "2\n",
            "3\n",
            "4\n",
            "5\n",
            "5\n"
          ]
        }
      ],
      "source": [
        "for c in (1,2,3,4,5,5):\n",
        "  print(c)"
      ]
    },
    {
      "cell_type": "code",
      "execution_count": null,
      "metadata": {
        "colab": {
          "base_uri": "https://localhost:8080/"
        },
        "id": "IKO1XKhByGHt",
        "outputId": "9b993e5a-6c46-4f4d-fd5d-8c2fe38902f4"
      },
      "outputs": [
        {
          "name": "stdout",
          "output_type": "stream",
          "text": [
            "1\n",
            ",\n",
            "2\n",
            ",\n",
            "3\n",
            ",\n",
            "4\n",
            ",\n",
            "5\n",
            ",\n",
            "5\n"
          ]
        }
      ],
      "source": [
        "for j in \"1,2,3,4,5,5\":\n",
        "  print(j)"
      ]
    },
    {
      "cell_type": "code",
      "execution_count": null,
      "metadata": {
        "colab": {
          "base_uri": "https://localhost:8080/"
        },
        "id": "KbLJIqnrzENw",
        "outputId": "727703cd-7975-4b23-c796-f4d3a47f77c9"
      },
      "outputs": [
        {
          "name": "stdout",
          "output_type": "stream",
          "text": [
            "C\n",
            "r\n",
            "i\n",
            "s\n",
            "t\n",
            "i\n",
            "a\n",
            "n\n"
          ]
        }
      ],
      "source": [
        "for j in \"Cristian\":\n",
        "  print(j)"
      ]
    },
    {
      "cell_type": "markdown",
      "metadata": {
        "id": "85ogBE_l1lQn"
      },
      "source": [
        "***Funcion RANGE(Start, Stop, Step) significa: RANGO (Comenzar, Detener, Paso)***"
      ]
    },
    {
      "cell_type": "markdown",
      "metadata": {
        "id": "xisRMtp02fa6"
      },
      "source": [
        "***cuando solo se pasa 1 a la funcion Range por default(por defecto) STOP***"
      ]
    },
    {
      "cell_type": "code",
      "execution_count": null,
      "metadata": {
        "colab": {
          "background_save": true
        },
        "id": "PDYTaLMQ22jp",
        "outputId": "9bd920e1-fa28-4462-994b-5297eb376539"
      },
      "outputs": [
        {
          "name": "stdout",
          "output_type": "stream",
          "text": [
            "0\n",
            "1\n",
            "2\n",
            "3\n",
            "4\n",
            "5\n",
            "6\n",
            "7\n",
            "8\n",
            "9\n",
            "10\n"
          ]
        }
      ],
      "source": [
        "for i in range (11):\n",
        "  print(i)"
      ]
    },
    {
      "cell_type": "code",
      "source": [
        "nombre = input(\"Digite su Nombre: \")\n",
        "for i in range(15):\n",
        "  print(i, nombre)"
      ],
      "metadata": {
        "colab": {
          "base_uri": "https://localhost:8080/"
        },
        "id": "xpUmqJi952hR",
        "outputId": "e21be2bf-369c-4453-904a-5f427c531653"
      },
      "execution_count": null,
      "outputs": [
        {
          "output_type": "stream",
          "name": "stdout",
          "text": [
            "Digite su Nombre: Lore y Juancho\n",
            "0 Lore y Juancho\n",
            "1 Lore y Juancho\n",
            "2 Lore y Juancho\n",
            "3 Lore y Juancho\n",
            "4 Lore y Juancho\n",
            "5 Lore y Juancho\n",
            "6 Lore y Juancho\n",
            "7 Lore y Juancho\n",
            "8 Lore y Juancho\n",
            "9 Lore y Juancho\n",
            "10 Lore y Juancho\n",
            "11 Lore y Juancho\n",
            "12 Lore y Juancho\n",
            "13 Lore y Juancho\n",
            "14 Lore y Juancho\n"
          ]
        }
      ]
    },
    {
      "cell_type": "markdown",
      "source": [
        "Escribir un Programa que realice la tabla de Multiplicar de un numero digitado por e teclado."
      ],
      "metadata": {
        "id": "vzABxeX966JQ"
      }
    },
    {
      "cell_type": "code",
      "source": [
        "num= int(input(\"Digite le numero de la tabla de multiplicar: \"))\n",
        "\n",
        "for i in range(11):\n",
        "  print(i, \"x\", num, \"=\",i* num)"
      ],
      "metadata": {
        "colab": {
          "base_uri": "https://localhost:8080/"
        },
        "id": "rGgSJDcr7m54",
        "outputId": "d2c61d0e-40ff-49e5-8d1f-8cd38af80964"
      },
      "execution_count": null,
      "outputs": [
        {
          "output_type": "stream",
          "name": "stdout",
          "text": [
            "Digite le numero de la tabla de multiplicar: 5\n",
            "0 x 5 = 0\n",
            "1 x 5 = 5\n",
            "2 x 5 = 10\n",
            "3 x 5 = 15\n",
            "4 x 5 = 20\n",
            "5 x 5 = 25\n",
            "6 x 5 = 30\n",
            "7 x 5 = 35\n",
            "8 x 5 = 40\n",
            "9 x 5 = 45\n",
            "10 x 5 = 50\n"
          ]
        }
      ]
    },
    {
      "cell_type": "markdown",
      "source": [
        "***Escriba un programa que sume el total que sume los numeros pares de 0 a 10 y saque el total de la suma.***"
      ],
      "metadata": {
        "id": "pjojguiB8wzF"
      }
    },
    {
      "cell_type": "markdown",
      "source": [
        "concepto de variable acumuladora\n"
      ],
      "metadata": {
        "id": "2DZtD0v89Dls"
      }
    },
    {
      "cell_type": "code",
      "source": [
        "# 2 + 4 + 6 + 8 + 10 = 30\n",
        "#variables acumuladoras\n",
        "acu = 0\n",
        "\n",
        "for i in range(0,11,2):\n",
        "  #print(i)\n",
        "  acu = acu + i\n",
        "print(f\"El total de la suma de los numeros pares de 0-10 es: {acu}\")\n"
      ],
      "metadata": {
        "colab": {
          "base_uri": "https://localhost:8080/"
        },
        "id": "Ph5PwFt19tGM",
        "outputId": "05be398a-b701-4b19-9502-b166d0bad27a"
      },
      "execution_count": null,
      "outputs": [
        {
          "output_type": "stream",
          "name": "stdout",
          "text": [
            "El total de la suma de los numeros pares de 0-10 es: 30\n"
          ]
        }
      ]
    },
    {
      "cell_type": "code",
      "source": [
        "acu = 0\n",
        "\n",
        "for i in range(0,11,2):\n",
        "  #print(i)\n",
        "  acu = acu + i\n",
        "  print(f\"El total de la suma de los numeros pares de 0-10 es: {acu}\")"
      ],
      "metadata": {
        "colab": {
          "base_uri": "https://localhost:8080/"
        },
        "id": "1tnWz1Yh_iJX",
        "outputId": "4c1bfa6c-ff8d-4b52-d751-e653eb1ff4c6"
      },
      "execution_count": null,
      "outputs": [
        {
          "output_type": "stream",
          "name": "stdout",
          "text": [
            "El total de la suma de los numeros pares de 0-10 es: 0\n",
            "El total de la suma de los numeros pares de 0-10 es: 2\n",
            "El total de la suma de los numeros pares de 0-10 es: 6\n",
            "El total de la suma de los numeros pares de 0-10 es: 12\n",
            "El total de la suma de los numeros pares de 0-10 es: 20\n",
            "El total de la suma de los numeros pares de 0-10 es: 30\n"
          ]
        }
      ]
    },
    {
      "cell_type": "code",
      "source": [
        "acu = 0\n",
        "\n",
        "for i in range(0,11,2):\n",
        "  print(i)\n",
        "  acu = acu + i\n",
        "print(f\"El total de la suma de los numeros pares de 0-10 es: {acu}\")"
      ],
      "metadata": {
        "colab": {
          "base_uri": "https://localhost:8080/"
        },
        "id": "VzUQlOMc_noF",
        "outputId": "06382873-c9ee-4ad6-bd33-7ee13eb515c0"
      },
      "execution_count": null,
      "outputs": [
        {
          "output_type": "stream",
          "name": "stdout",
          "text": [
            "0\n",
            "2\n",
            "4\n",
            "6\n",
            "8\n",
            "10\n",
            "El total de la suma de los numeros pares de 0-10 es: 30\n"
          ]
        }
      ]
    },
    {
      "cell_type": "markdown",
      "source": [
        "# ***TALLER***"
      ],
      "metadata": {
        "id": "kzthsKg9AT5v"
      }
    },
    {
      "cell_type": "markdown",
      "source": [
        "1. Crear un bucle que cuente todos los números pares hasta\n",
        "el 100 ciclo for"
      ],
      "metadata": {
        "id": "LNviEqaEAY96"
      }
    },
    {
      "cell_type": "code",
      "source": [
        "for i in range(0,101,2):\n",
        "  print(i)"
      ],
      "metadata": {
        "colab": {
          "base_uri": "https://localhost:8080/"
        },
        "id": "del578sCAely",
        "outputId": "ac08a478-9960-4cbd-9869-c8e93e79a2a8"
      },
      "execution_count": null,
      "outputs": [
        {
          "output_type": "stream",
          "name": "stdout",
          "text": [
            "0\n",
            "2\n",
            "4\n",
            "6\n",
            "8\n",
            "10\n",
            "12\n",
            "14\n",
            "16\n",
            "18\n",
            "20\n",
            "22\n",
            "24\n",
            "26\n",
            "28\n",
            "30\n",
            "32\n",
            "34\n",
            "36\n",
            "38\n",
            "40\n",
            "42\n",
            "44\n",
            "46\n",
            "48\n",
            "50\n",
            "52\n",
            "54\n",
            "56\n",
            "58\n",
            "60\n",
            "62\n",
            "64\n",
            "66\n",
            "68\n",
            "70\n",
            "72\n",
            "74\n",
            "76\n",
            "78\n",
            "80\n",
            "82\n",
            "84\n",
            "86\n",
            "88\n",
            "90\n",
            "92\n",
            "94\n",
            "96\n",
            "98\n",
            "100\n"
          ]
        }
      ]
    },
    {
      "cell_type": "markdown",
      "source": [
        "2. Haz una tabla de multiplicar utilizando el ciclo for\n",
        "ciclo for "
      ],
      "metadata": {
        "id": "5XrwsUxOBfuo"
      }
    },
    {
      "cell_type": "code",
      "source": [
        "num = int(input(\"Digite el mumero de la tabla de multiplicar: \"))\n",
        "\n",
        "for i in range(21):\n",
        "  print(i,\"x\", num, \"=\", i* num)"
      ],
      "metadata": {
        "colab": {
          "base_uri": "https://localhost:8080/"
        },
        "id": "Uso1-vvRBoDy",
        "outputId": "155cdad8-56f0-44fe-8fdd-a15d3ab14832"
      },
      "execution_count": null,
      "outputs": [
        {
          "output_type": "stream",
          "name": "stdout",
          "text": [
            "Digite el mumero de la tabla de multiplicar: 5\n",
            "0 x 5 = 0\n",
            "1 x 5 = 5\n",
            "2 x 5 = 10\n",
            "3 x 5 = 15\n",
            "4 x 5 = 20\n",
            "5 x 5 = 25\n",
            "6 x 5 = 30\n",
            "7 x 5 = 35\n",
            "8 x 5 = 40\n",
            "9 x 5 = 45\n",
            "10 x 5 = 50\n",
            "11 x 5 = 55\n",
            "12 x 5 = 60\n",
            "13 x 5 = 65\n",
            "14 x 5 = 70\n",
            "15 x 5 = 75\n",
            "16 x 5 = 80\n",
            "17 x 5 = 85\n",
            "18 x 5 = 90\n",
            "19 x 5 = 95\n",
            "20 x 5 = 100\n"
          ]
        }
      ]
    },
    {
      "cell_type": "markdown",
      "source": [
        "**3. Escribir un programa que pregunte al usuario su edad y\n",
        "muestre por pantalla todos los años que ha cumplido\n",
        "(desde 1 hasta su edad). ciclo for**"
      ],
      "metadata": {
        "id": "p4HbTCilDvzm"
      }
    },
    {
      "cell_type": "code",
      "source": [
        "edad = int(input(\"Cuantos Años tienes?: \"))\n",
        "for i in range(edad):\n",
        "  print(\"¡Has cumplido!\", i+1, \"Años\")\n"
      ],
      "metadata": {
        "colab": {
          "base_uri": "https://localhost:8080/"
        },
        "id": "G8zEPuZsD-pC",
        "outputId": "29ae34e8-7474-4c90-feda-229f840db980"
      },
      "execution_count": null,
      "outputs": [
        {
          "output_type": "stream",
          "name": "stdout",
          "text": [
            "Cuantos Años tienes?: 15\n",
            "¡Has cumplido! 1 Años\n",
            "¡Has cumplido! 2 Años\n",
            "¡Has cumplido! 3 Años\n",
            "¡Has cumplido! 4 Años\n",
            "¡Has cumplido! 5 Años\n",
            "¡Has cumplido! 6 Años\n",
            "¡Has cumplido! 7 Años\n",
            "¡Has cumplido! 8 Años\n",
            "¡Has cumplido! 9 Años\n",
            "¡Has cumplido! 10 Años\n",
            "¡Has cumplido! 11 Años\n",
            "¡Has cumplido! 12 Años\n",
            "¡Has cumplido! 13 Años\n",
            "¡Has cumplido! 14 Años\n",
            "¡Has cumplido! 15 Años\n"
          ]
        }
      ]
    },
    {
      "cell_type": "markdown",
      "source": [
        "**4. Escribir un programa que pida al usuario un número entero\n",
        "positivo y muestre por pantalla todos los números\n",
        "impares desde 1 hasta ese número separados por comas.** "
      ],
      "metadata": {
        "id": "BrN7fjYKJKjQ"
      }
    },
    {
      "cell_type": "code",
      "source": [
        "num = int(input(\"Digite el numero entero positivo: \"))\n",
        "\n",
        "for i in range(1, num+1, 2):\n",
        "  print(i, end=\",\")"
      ],
      "metadata": {
        "colab": {
          "base_uri": "https://localhost:8080/"
        },
        "id": "iO6HccjzJdT7",
        "outputId": "f55b4eee-b4fe-4e15-ae2b-34005bb23a66"
      },
      "execution_count": 1,
      "outputs": [
        {
          "output_type": "stream",
          "name": "stdout",
          "text": [
            "Digite el numero entero positivo: 7\n",
            "1,3,5,7,"
          ]
        }
      ]
    }
  ],
  "metadata": {
    "colab": {
      "provenance": []
    },
    "kernelspec": {
      "display_name": "Python 3",
      "name": "python3"
    },
    "language_info": {
      "name": "python"
    }
  },
  "nbformat": 4,
  "nbformat_minor": 0
}